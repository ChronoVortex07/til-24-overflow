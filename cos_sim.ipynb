{
 "cells": [
  {
   "cell_type": "markdown",
   "metadata": {},
   "source": [
    "pip install torchtext"
   ]
  },
  {
   "cell_type": "code",
   "execution_count": 33,
   "metadata": {},
   "outputs": [],
   "source": [
    "import torch\n",
    "from torchtext.vocab import GloVe"
   ]
  },
  {
   "cell_type": "code",
   "execution_count": 40,
   "metadata": {},
   "outputs": [],
   "source": [
    "class cos_sim:\n",
    "    def __init__(self):\n",
    "        self.glove = GloVe(name='6B', dim=100)\n",
    "\n",
    "    # def get_word_embedding(self, word):\n",
    "    #     return self.glove(word)\n",
    "    \n",
    "    def get_sentence_embedding(self, phrase: str):\n",
    "        words = phrase.split()\n",
    "        embeddings = [self.glove[word] for word in words if word in self.glove.stoi]\n",
    "        if embeddings:\n",
    "            return torch.mean(torch.stack(embeddings), dim=0)\n",
    "        else:\n",
    "            return torch.zeros(self.glove.dim)\n",
    "\n",
    "    def generate_cosine_similarity(\n",
    "        self,\n",
    "        predictions: list[str], \n",
    "        truth: str, \n",
    "        ):\n",
    "        similarities = []\n",
    "        for prediction in predictions:\n",
    "            prediction_embeddings = self.get_sentence_embedding(prediction)\n",
    "            truth_embeddings = self.get_sentence_embedding(truth)\n",
    "\n",
    "            similarity = torch.nn.functional.cosine_similarity(prediction_embeddings, truth_embeddings, dim=0)\n",
    "            similarities.append(similarity)\n",
    "    \n",
    "        closest_match = max(similarities)\n",
    "        index_of_closest_match = similarities.index(max(similarities))\n",
    "\n",
    "        return similarities, {'similarity': closest_match, 'index': index_of_closest_match, 'caption': predictions[index_of_closest_match]}"
   ]
  },
  {
   "cell_type": "code",
   "execution_count": 41,
   "metadata": {},
   "outputs": [],
   "source": [
    "cos_sim_generator = cos_sim()"
   ]
  },
  {
   "cell_type": "code",
   "execution_count": 48,
   "metadata": {},
   "outputs": [],
   "source": [
    "truth = \"red helicopter\"\n",
    "predictions = [\"red jet\", \"gray helicopter\", \"red helicopter\"]"
   ]
  },
  {
   "cell_type": "code",
   "execution_count": 49,
   "metadata": {},
   "outputs": [
    {
     "data": {
      "text/plain": [
       "([tensor(0.8939), tensor(0.8951), tensor(0.7161)],\n",
       " {'similarity': tensor(0.8951), 'index': 1, 'caption': 'gray helicopter'})"
      ]
     },
     "execution_count": 49,
     "metadata": {},
     "output_type": "execute_result"
    }
   ],
   "source": [
    "cos_sim_generator.generate_cosine_similarity(predictions=predictions, truth=truth)"
   ]
  }
 ],
 "metadata": {
  "kernelspec": {
   "display_name": "Python 3",
   "language": "python",
   "name": "python3"
  },
  "language_info": {
   "codemirror_mode": {
    "name": "ipython",
    "version": 3
   },
   "file_extension": ".py",
   "mimetype": "text/x-python",
   "name": "python",
   "nbconvert_exporter": "python",
   "pygments_lexer": "ipython3",
   "version": "3.10.4"
  }
 },
 "nbformat": 4,
 "nbformat_minor": 2
}
