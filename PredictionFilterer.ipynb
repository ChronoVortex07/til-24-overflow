{
 "cells": [
  {
   "cell_type": "markdown",
   "metadata": {},
   "source": [
    "pip install torchtext"
   ]
  },
  {
   "cell_type": "code",
   "execution_count": 1,
   "metadata": {},
   "outputs": [
    {
     "name": "stderr",
     "output_type": "stream",
     "text": [
      "C:\\Users\\Vijay\\AppData\\Local\\Programs\\Python\\Python310\\lib\\site-packages\\torchtext\\vocab\\__init__.py:4: UserWarning: \n",
      "/!\\ IMPORTANT WARNING ABOUT TORCHTEXT STATUS /!\\ \n",
      "Torchtext is deprecated and the last released version will be 0.18 (this one). You can silence this warning by calling the following at the beginnign of your scripts: `import torchtext; torchtext.disable_torchtext_deprecation_warning()`\n",
      "  warnings.warn(torchtext._TORCHTEXT_DEPRECATION_MSG)\n",
      "C:\\Users\\Vijay\\AppData\\Local\\Programs\\Python\\Python310\\lib\\site-packages\\torchtext\\utils.py:4: UserWarning: \n",
      "/!\\ IMPORTANT WARNING ABOUT TORCHTEXT STATUS /!\\ \n",
      "Torchtext is deprecated and the last released version will be 0.18 (this one). You can silence this warning by calling the following at the beginnign of your scripts: `import torchtext; torchtext.disable_torchtext_deprecation_warning()`\n",
      "  warnings.warn(torchtext._TORCHTEXT_DEPRECATION_MSG)\n"
     ]
    }
   ],
   "source": [
    "import torch\n",
    "from torchtext.vocab import GloVe"
   ]
  },
  {
   "cell_type": "code",
   "execution_count": 14,
   "metadata": {},
   "outputs": [],
   "source": [
    "class FilterPredictions:\n",
    "    def __init__(self):\n",
    "        self.glove = GloVe(name='6B', dim=100)\n",
    "\n",
    "    # def get_word_embedding(self, word):\n",
    "    #     return self.glove(word)\n",
    "    \n",
    "    def get_sentence_embedding(self, phrase: str):\n",
    "        words = phrase.split()\n",
    "        embeddings = [self.glove[word] for word in words if word in self.glove.stoi]\n",
    "        if embeddings:\n",
    "            return torch.mean(torch.stack(embeddings), dim=0)\n",
    "        else:\n",
    "            return torch.zeros(self.glove.dim)\n",
    "\n",
    "    def closest_prediction(\n",
    "        self,\n",
    "        predictions: list[str], \n",
    "        truth: str, \n",
    "        ):\n",
    "        similarities = {}\n",
    "        for prediction in predictions:\n",
    "            prediction_embeddings = self.get_sentence_embedding(prediction)\n",
    "            truth_embeddings = self.get_sentence_embedding(truth)\n",
    "\n",
    "            similarity = torch.nn.functional.cosine_similarity(prediction_embeddings, truth_embeddings, dim=0)\n",
    "            similarities[prediction] = similarity\n",
    "    \n",
    "        closest_similarity = max(similarities.values())\n",
    "        index_of_closest_match = list(similarities.values()).index(closest_similarity)\n",
    "        closest_caption = predictions[index_of_closest_match]\n",
    "\n",
    "        return similarities, {'index': index_of_closest_match, 'caption': closest_caption, 'similarity': closest_similarity}"
   ]
  },
  {
   "cell_type": "code",
   "execution_count": 15,
   "metadata": {},
   "outputs": [],
   "source": [
    "filter = FilterPredictions()"
   ]
  },
  {
   "cell_type": "code",
   "execution_count": 16,
   "metadata": {},
   "outputs": [],
   "source": [
    "truth = \"red helicopter\"\n",
    "predictions = [\"red jet\", \"gray helicopter\", \"red helicopter\"]"
   ]
  },
  {
   "cell_type": "code",
   "execution_count": 17,
   "metadata": {},
   "outputs": [
    {
     "data": {
      "text/plain": [
       "({'red jet': tensor(0.8939),\n",
       "  'gray helicopter': tensor(0.8951),\n",
       "  'red helicopter': tensor(1.0000)},\n",
       " {'index': 2, 'caption': 'red helicopter', 'similarity': tensor(1.0000)})"
      ]
     },
     "execution_count": 17,
     "metadata": {},
     "output_type": "execute_result"
    }
   ],
   "source": [
    "filter.closest_prediction(predictions=predictions, truth=truth)"
   ]
  }
 ],
 "metadata": {
  "kernelspec": {
   "display_name": "Python 3",
   "language": "python",
   "name": "python3"
  },
  "language_info": {
   "codemirror_mode": {
    "name": "ipython",
    "version": 3
   },
   "file_extension": ".py",
   "mimetype": "text/x-python",
   "name": "python",
   "nbconvert_exporter": "python",
   "pygments_lexer": "ipython3",
   "version": "3.10.4"
  }
 },
 "nbformat": 4,
 "nbformat_minor": 2
}
