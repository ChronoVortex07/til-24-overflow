{
 "cells": [
  {
   "cell_type": "code",
   "execution_count": 1,
   "metadata": {},
   "outputs": [],
   "source": [
    "import json\n",
    "import soundfile\n",
    "from sklearn.model_selection import train_test_split\n",
    "import datasets"
   ]
  },
  {
   "cell_type": "code",
   "execution_count": 2,
   "metadata": {},
   "outputs": [
    {
     "name": "stdout",
     "output_type": "stream",
     "text": [
      "0\n",
      "100\n",
      "200\n",
      "300\n",
      "400\n",
      "500\n",
      "600\n",
      "700\n",
      "800\n",
      "900\n",
      "1000\n",
      "1100\n",
      "1200\n",
      "1300\n",
      "1400\n",
      "1500\n",
      "1600\n",
      "1700\n",
      "1800\n",
      "1900\n",
      "2000\n",
      "2100\n",
      "2200\n",
      "2300\n",
      "2400\n",
      "2500\n",
      "2600\n",
      "2700\n",
      "2800\n",
      "2900\n",
      "3000\n",
      "3100\n",
      "3200\n",
      "3300\n",
      "3400\n"
     ]
    },
    {
     "data": {
      "text/plain": [
       "(3500, 3500)"
      ]
     },
     "execution_count": 2,
     "metadata": {},
     "output_type": "execute_result"
    }
   ],
   "source": [
    "audio = []\n",
    "transcripts = []\n",
    "with open(f\"data/asr.jsonl\", 'r') as f:\n",
    "    for idx, line in enumerate(f):\n",
    "        row = json.loads(line)\n",
    "        if idx % 100 == 0:\n",
    "            print(idx)\n",
    "        audio_array, rate = soundfile.read(f\"data/audio/{row['audio']}\")\n",
    "        audio.append({'array': audio_array, 'sampling_rate': 16000})\n",
    "        transcripts.append(row['transcript'])\n",
    "len(audio), len(transcripts)"
   ]
  },
  {
   "cell_type": "code",
   "execution_count": 3,
   "metadata": {},
   "outputs": [],
   "source": [
    "X_train, X_val, y_train, y_val = train_test_split(audio, transcripts, test_size=0.2, random_state=42)\n"
   ]
  },
  {
   "cell_type": "code",
   "execution_count": 4,
   "metadata": {},
   "outputs": [],
   "source": [
    "X_train_mini = X_train[:320]\n",
    "y_train_mini = y_train[:320]\n",
    "X_val_mini = X_val[:64]\n",
    "y_val_mini = y_val[:64]"
   ]
  },
  {
   "cell_type": "code",
   "execution_count": 5,
   "metadata": {},
   "outputs": [
    {
     "data": {
      "text/plain": [
       "(2800, 2800, 320, 320, 700, 700, 64, 64)"
      ]
     },
     "execution_count": 5,
     "metadata": {},
     "output_type": "execute_result"
    }
   ],
   "source": [
    "len(X_train), len(y_train), len(X_train_mini), len(y_train_mini), len(X_val), len(y_val), len(X_val_mini), len(y_val_mini)"
   ]
  },
  {
   "cell_type": "code",
   "execution_count": 6,
   "metadata": {},
   "outputs": [],
   "source": [
    "train_dataset = datasets.Dataset.from_dict({'audio': X_train, 'sentence': y_train})\n",
    "val_dataset = datasets.Dataset.from_dict({'audio': X_val, 'sentence': y_val})\n",
    "train_dataset_mini = datasets.Dataset.from_dict({'audio': X_train_mini, 'sentence': y_train_mini})\n",
    "val_dataset_mini = datasets.Dataset.from_dict({'audio': X_val_mini, 'sentence': y_val_mini})"
   ]
  },
  {
   "cell_type": "code",
   "execution_count": 7,
   "metadata": {},
   "outputs": [
    {
     "data": {
      "application/vnd.jupyter.widget-view+json": {
       "model_id": "72fab27be9f34cb28aa65488d5b2494a",
       "version_major": 2,
       "version_minor": 0
      },
      "text/plain": [
       "Saving the dataset (0/7 shards):   0%|          | 0/2800 [00:00<?, ? examples/s]"
      ]
     },
     "metadata": {},
     "output_type": "display_data"
    },
    {
     "data": {
      "application/vnd.jupyter.widget-view+json": {
       "model_id": "210dde174c2b4b068e39213648104be8",
       "version_major": 2,
       "version_minor": 0
      },
      "text/plain": [
       "Saving the dataset (0/2 shards):   0%|          | 0/700 [00:00<?, ? examples/s]"
      ]
     },
     "metadata": {},
     "output_type": "display_data"
    },
    {
     "data": {
      "application/vnd.jupyter.widget-view+json": {
       "model_id": "eab5b0b686d6407781b20c149e3e3976",
       "version_major": 2,
       "version_minor": 0
      },
      "text/plain": [
       "Saving the dataset (0/1 shards):   0%|          | 0/320 [00:00<?, ? examples/s]"
      ]
     },
     "metadata": {},
     "output_type": "display_data"
    },
    {
     "data": {
      "application/vnd.jupyter.widget-view+json": {
       "model_id": "baa4784af0cd4a899473e8539c092c27",
       "version_major": 2,
       "version_minor": 0
      },
      "text/plain": [
       "Saving the dataset (0/1 shards):   0%|          | 0/64 [00:00<?, ? examples/s]"
      ]
     },
     "metadata": {},
     "output_type": "display_data"
    }
   ],
   "source": [
    "train_dataset.save_to_disk(dataset_path=r\"C:\\Users\\Vijay\\OneDrive\\Documents\\GitHub\\til-24-overflow\\hf_datasets\\train.hf\")\n",
    "val_dataset.save_to_disk(dataset_path=r\"C:\\Users\\Vijay\\OneDrive\\Documents\\GitHub\\til-24-overflow\\hf_datasets\\val.hf\")\n",
    "train_dataset_mini.save_to_disk(dataset_path=r\"C:\\Users\\Vijay\\OneDrive\\Documents\\GitHub\\til-24-overflow\\hf_datasets\\train_mini.hf\")\n",
    "val_dataset_mini.save_to_disk(dataset_path=r\"C:\\Users\\Vijay\\OneDrive\\Documents\\GitHub\\til-24-overflow\\hf_datasets\\val_mini.hf\")"
   ]
  }
 ],
 "metadata": {
  "kernelspec": {
   "display_name": "Python 3",
   "language": "python",
   "name": "python3"
  },
  "language_info": {
   "codemirror_mode": {
    "name": "ipython",
    "version": 3
   },
   "file_extension": ".py",
   "mimetype": "text/x-python",
   "name": "python",
   "nbconvert_exporter": "python",
   "pygments_lexer": "ipython3",
   "version": "3.10.4"
  }
 },
 "nbformat": 4,
 "nbformat_minor": 2
}
